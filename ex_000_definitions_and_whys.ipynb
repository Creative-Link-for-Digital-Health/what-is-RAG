{
 "cells": [
  {
   "cell_type": "markdown",
   "id": "1b9185fe",
   "metadata": {},
   "source": [
    "# Definitions and Whys"
   ]
  },
  {
   "cell_type": "markdown",
   "id": "f414ab64",
   "metadata": {},
   "source": [
    "### What is RAG?\n",
    "RAG stands for *Retrieval-Augmented Generation*, which is a technique that combines information retrieval systems with language model generation.\n",
    "The core concept of RAG involves:\n",
    "\n",
    "1. *Retrieval:* Using a system to find and access relevant information from a knowledge base or external source when needed\n",
    "2. *Augmentation:* Adding this retrieved information to the context or prompt given to the language model\n",
    "3. *Generation:* Having the language model create a response that incorporates both its pre-trained knowledge and the newly retrieved information."
   ]
  },
  {
   "cell_type": "markdown",
   "id": "5818c827",
   "metadata": {},
   "source": [
    "![RAG flow](./images/RAG_simple.png \"RAG Flow\")"
   ]
  },
  {
   "cell_type": "markdown",
   "id": "d6f8c964",
   "metadata": {},
   "source": [
    "### Why use RAG?\n",
    "...especially since modern LLMS have such large *context windows*\n",
    "\n",
    "Knowledge updates: No matter how large the context window, a model's training data has a cutoff date. RAG allows access to up-to-date information without retraining the entire model.\n",
    "Specialized knowledge: Even massive models can't contain all possible domain-specific information. RAG provides targeted access to specialized knowledge bases.\n",
    "Source attribution: RAG naturally supports citation and attribution since responses are connected to specific retrieved documents.\n",
    "Reduced hallucination: By grounding responses in retrieved content, RAG helps prevent the model from generating incorrect information.\n",
    "Computational efficiency: Loading an enormous amount of information into context is computationally expensive. RAG retrieves only what's relevant for the specific query.\n",
    "Customization: RAG allows organizations to connect models to their proprietary data without exposing it during model training.\n",
    "Dynamic information access: The knowledge base in RAG can be continuously updated, whereas information in a model's parameters is static until retraining."
   ]
  },
  {
   "cell_type": "markdown",
   "id": "f5c57e9b",
   "metadata": {},
   "source": [
    "## Helpful Defintions\n",
    "\n",
    "context window\n",
    "explain system, user, assistant paradigm\n",
    "\n",
    "#### What is SQL?"
   ]
  },
  {
   "cell_type": "markdown",
   "id": "38d95a98",
   "metadata": {},
   "source": [
    "## Contact Info\n",
    "\n",
    "Dmitry Strakovsky  \n",
    "Associate Professor of Art  \n",
    "College of Fine Arts\n",
    "\n",
    "dmitry.strakovsky@uky.edu  \n",
    "\n",
    "https://creative.ai.uky.edu/"
   ]
  },
  {
   "cell_type": "markdown",
   "id": "d173311a",
   "metadata": {},
   "source": [
    "![Presentation Link QR Code](./images/qrcode_github.com.png \"Presentation Link QR Code\")"
   ]
  }
 ],
 "metadata": {
  "language_info": {
   "name": "python"
  }
 },
 "nbformat": 4,
 "nbformat_minor": 5
}
