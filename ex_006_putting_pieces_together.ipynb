{
 "cells": [
  {
   "cell_type": "markdown",
   "id": "b51adc40",
   "metadata": {},
   "source": [
    "# Putting all of the Pieces Together"
   ]
  },
  {
   "cell_type": "markdown",
   "id": "ef5ba1b8",
   "metadata": {},
   "source": [
    "Now that we know how to evaluate semantic similarity using a database, we can proceed to an actual RAG implementation."
   ]
  },
  {
   "cell_type": "code",
   "execution_count": null,
   "id": "ece7dec5",
   "metadata": {},
   "outputs": [],
   "source": [
    "! pip install chromadb\n",
    "! pip install ollama\n",
    "! pip install nltk"
   ]
  },
  {
   "cell_type": "code",
   "execution_count": 2,
   "id": "85a68c38",
   "metadata": {},
   "outputs": [],
   "source": [
    "import requests\n",
    "import chromadb\n",
    "import numpy as np\n",
    "import uuid\n",
    "import time\n",
    "import nltk\n",
    "\n",
    "from nltk.tokenize import PunktSentenceTokenizer"
   ]
  },
  {
   "cell_type": "code",
   "execution_count": 3,
   "id": "3e6a211b",
   "metadata": {},
   "outputs": [
    {
     "name": "stderr",
     "output_type": "stream",
     "text": [
      "[nltk_data] Downloading package punkt to\n",
      "[nltk_data]     /Users/dmitrystrakovsky/nltk_data...\n",
      "[nltk_data]   Package punkt is already up-to-date!\n"
     ]
    },
    {
     "data": {
      "text/plain": [
       "True"
      ]
     },
     "execution_count": 3,
     "metadata": {},
     "output_type": "execute_result"
    }
   ],
   "source": [
    "# Download the punkt tokenizer models that will help us split our text into sentences.\n",
    "nltk.download('punkt')"
   ]
  },
  {
   "cell_type": "code",
   "execution_count": 6,
   "id": "86f60e5e",
   "metadata": {},
   "outputs": [],
   "source": [
    "with open('./heart_attack.txt', 'r', encoding='utf-8') as file:\n",
    "    text = file.read()"
   ]
  },
  {
   "cell_type": "code",
   "execution_count": 11,
   "id": "c2b39ae8",
   "metadata": {},
   "outputs": [
    {
     "name": "stdout",
     "output_type": "stream",
     "text": [
      "Total sentences: 108\n",
      "Alice couldn't help but interject.\n"
     ]
    }
   ],
   "source": [
    "# Break our story up into seperate sentances\n",
    "tokenizer = PunktSentenceTokenizer()\n",
    "sentences = tokenizer.tokenize(text)\n",
    "\n",
    "print(f\"Total sentences: {len(sentences)}\")\n",
    "print(sentences[33])"
   ]
  },
  {
   "cell_type": "markdown",
   "id": "8272e63a",
   "metadata": {},
   "source": [
    "## Now that our sentences are split, we can generate embeddings for individual sentences"
   ]
  },
  {
   "cell_type": "code",
   "execution_count": 12,
   "id": "cdc9b9ce",
   "metadata": {},
   "outputs": [],
   "source": [
    "# Using Nomic model served locally via Ollama for embedding\n",
    "# Ollama is a friend --> https://ollama.com/\n",
    "def get_embeddings_from_ollama(text, model=\"nomic-embed-text\"):\n",
    "    url = \"http://localhost:11434/api/embeddings\"\n",
    "    \n",
    "    payload = {\n",
    "        \"model\": model,\n",
    "        \"prompt\": text\n",
    "    }\n",
    "    \n",
    "    response = requests.post(url, json=payload)\n",
    "    return np.array(response.json()[\"embedding\"], dtype=np.float32)"
   ]
  },
  {
   "cell_type": "code",
   "execution_count": 13,
   "id": "212888d3",
   "metadata": {},
   "outputs": [],
   "source": [
    "embeddings = []\n",
    "for sentence in sentences:\n",
    "    embedding = get_embeddings_from_ollama(sentence)\n",
    "    embeddings.append(embedding)"
   ]
  },
  {
   "cell_type": "markdown",
   "id": "9d73cc78",
   "metadata": {},
   "source": [
    "## And now, on to packing everything into a database"
   ]
  },
  {
   "cell_type": "code",
   "execution_count": null,
   "id": "a54e65ab",
   "metadata": {},
   "outputs": [],
   "source": []
  }
 ],
 "metadata": {
  "kernelspec": {
   "display_name": "RAG-presentation",
   "language": "python",
   "name": "python3"
  },
  "language_info": {
   "codemirror_mode": {
    "name": "ipython",
    "version": 3
   },
   "file_extension": ".py",
   "mimetype": "text/x-python",
   "name": "python",
   "nbconvert_exporter": "python",
   "pygments_lexer": "ipython3",
   "version": "3.12.9"
  }
 },
 "nbformat": 4,
 "nbformat_minor": 5
}
