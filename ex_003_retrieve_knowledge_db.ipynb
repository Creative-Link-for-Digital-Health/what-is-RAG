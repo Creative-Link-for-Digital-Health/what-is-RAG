{
 "cells": [
  {
   "cell_type": "markdown",
   "metadata": {},
   "source": [
    "# Retrieve Knowledge from an External Database\n",
    "\n",
    "Again, we retrieve the data but this time we pre-defined its structure and stored it in an exteranl database."
   ]
  },
  {
   "cell_type": "code",
   "execution_count": null,
   "metadata": {},
   "outputs": [],
   "source": [
    "! pip install openai\n",
    "! pip install pandas\n",
    "! pip install duckdb"
   ]
  },
  {
   "cell_type": "code",
   "execution_count": 108,
   "metadata": {},
   "outputs": [],
   "source": [
    "# Import necessary libraries \n",
    "\n",
    "from openai import OpenAI\n",
    "from typing import Dict, Any, List\n",
    "\n",
    "from api_utils import load_api_params\n",
    "\n",
    "import pandas as pd\n",
    "import duckdb"
   ]
  },
  {
   "cell_type": "code",
   "execution_count": 109,
   "metadata": {},
   "outputs": [],
   "source": [
    "# Load API parameters and initialize client\n",
    "\n",
    "SECRETS_PATH = \".secrets.toml\"\n",
    "\n",
    "API_CALL_PARAMS = load_api_params(SECRETS_PATH)\n",
    "client = OpenAI(\n",
    "    base_url = API_CALL_PARAMS['API_URL'],\n",
    "    api_key = API_CALL_PARAMS['API_KEY']\n",
    ")"
   ]
  },
  {
   "cell_type": "code",
   "execution_count": 111,
   "metadata": {},
   "outputs": [],
   "source": [
    "def generate_completion(model: str, messages: List[Dict[str, str]]) -> str:\n",
    "    \"\"\"Generate LLM output\"\"\"\n",
    "    response = client.chat.completions.create(\n",
    "        model=model, \n",
    "        messages=messages\n",
    "    )\n",
    "    return response.choices[0].message.content\n",
    "\n",
    "def get_knowledge(filename):\n",
    "    \"\"\"Query database for explanation\"\"\"\n",
    "    try:\n",
    "        # connect to the data source\n",
    "        data_frame = pd.read_csv('heart_attack.csv')\n",
    "        db_connection = duckdb.connect(database=':memory:')\n",
    "        db_connection.register('wonderland_data', data_frame)\n",
    "\n",
    "        # build an SQL query \n",
    "        query = \"\"\"\n",
    "        SELECT * \n",
    "        FROM wonderland_data \n",
    "        WHERE Description = 'Explanation'\n",
    "        \"\"\"\n",
    "\n",
    "        results = db_connection.execute(query).fetchall()\n",
    "        print (results)\n",
    "        return results\n",
    "\n",
    "    except FileNotFoundError:\n",
    "        print(f\"Error: File '{filename}' not found.\")\n",
    "        return None\n",
    "    except Exception as e:\n",
    "        print(f\"Error reading file: {e}\")\n",
    "        return None"
   ]
  },
  {
   "cell_type": "code",
   "execution_count": 112,
   "metadata": {},
   "outputs": [
    {
     "name": "stdout",
     "output_type": "stream",
     "text": [
      "[(6, '\"A Heart Attack,\" mumbled the Duchess, who had appeared beside Alice. \"That\\'s what they call it when the Heart kingdom launches an offensive.\"', 'Alice, Duchess', 'Unknown', 1, 23, 'Explanation')]\n"
     ]
    }
   ],
   "source": [
    "KNOWDLEGE = get_knowledge('heart_attack.csv')"
   ]
  },
  {
   "cell_type": "code",
   "execution_count": 113,
   "metadata": {},
   "outputs": [
    {
     "name": "stdout",
     "output_type": "stream",
     "text": [
      "Answer all user questions to the best of your ability. Use the following text for reference:\n",
      "\n",
      "[(6, '\"A Heart Attack,\" mumbled the Duchess, who had appeared beside Alice. \"That\\'s what they call it when the Heart kingdom launches an offensive.\"', 'Alice, Duchess', 'Unknown', 1, 23, 'Explanation')]\n",
      "\n"
     ]
    }
   ],
   "source": [
    "KNOWDLEGE = str(KNOWDLEGE)\n",
    "\n",
    "SYSTEM_PROMPT = f\"\"\"Answer all user questions to the best of your ability. Use the following text for reference:\n",
    "\n",
    "{KNOWDLEGE}\n",
    "\"\"\"\n",
    "\n",
    "print(SYSTEM_PROMPT)\n"
   ]
  },
  {
   "cell_type": "code",
   "execution_count": 114,
   "metadata": {},
   "outputs": [],
   "source": [
    "USER_PROMPT = \"\"\"Can you please tell me what is a heart attack.\"\"\""
   ]
  },
  {
   "cell_type": "code",
   "execution_count": 115,
   "metadata": {},
   "outputs": [
    {
     "name": "stdout",
     "output_type": "stream",
     "text": [
      "According to the Duchess, a \"heart attack\" is what they call it when the Heart kingdom launches an offensive.\n"
     ]
    }
   ],
   "source": [
    "messages = [\n",
    "    {\"role\": \"system\", \"content\": f\"\"\"{SYSTEM_PROMPT}\"\"\"},\n",
    "    {\"role\": \"user\", \"content\":f\"\"\"{USER_PROMPT}\"\"\"}\n",
    "]\n",
    "try:\n",
    "    model = API_CALL_PARAMS['MODEL']\n",
    "    LLM_output = generate_completion(model, messages)\n",
    "except Exception as e:\n",
    "    raise Exception(f\"Error generating completion: {e}\")\n",
    "\n",
    "print(LLM_output)"
   ]
  }
 ],
 "metadata": {
  "kernelspec": {
   "display_name": "RAG-presentation",
   "language": "python",
   "name": "python3"
  },
  "language_info": {
   "codemirror_mode": {
    "name": "ipython",
    "version": 3
   },
   "file_extension": ".py",
   "mimetype": "text/x-python",
   "name": "python",
   "nbconvert_exporter": "python",
   "pygments_lexer": "ipython3",
   "version": "3.12.9"
  }
 },
 "nbformat": 4,
 "nbformat_minor": 2
}
