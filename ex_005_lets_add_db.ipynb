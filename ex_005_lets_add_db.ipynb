{
 "cells": [
  {
   "cell_type": "markdown",
   "id": "b51adc40",
   "metadata": {},
   "source": [
    "# Adding a Database"
   ]
  },
  {
   "cell_type": "markdown",
   "id": "ef5ba1b8",
   "metadata": {},
   "source": [
    "Previous example kept embeddings in our computer's memory. If we want to have something useful, we will need to use a database that persists our data between sessions."
   ]
  },
  {
   "cell_type": "code",
   "execution_count": null,
   "id": "ece7dec5",
   "metadata": {},
   "outputs": [],
   "source": [
    "! pip install chromadb\n",
    "\n",
    "# Chroma is a friend https://www.trychroma.com/"
   ]
  },
  {
   "cell_type": "code",
   "execution_count": 62,
   "id": "85a68c38",
   "metadata": {},
   "outputs": [],
   "source": [
    "import requests\n",
    "import chromadb\n",
    "import numpy as np\n",
    "import uuid\n",
    "import time"
   ]
  },
  {
   "cell_type": "code",
   "execution_count": 63,
   "id": "a4627490",
   "metadata": {},
   "outputs": [],
   "source": [
    "texts = [\n",
    "    \"The cat sat on the mat\",\n",
    "    \"A feline was resting on a rug\",\n",
    "    \"Dogs are great pets\",\n",
    "    \"I love having a canine companion\",\n",
    "    \"Paris is the capital of France\",\n",
    "    \"The Eiffel Tower is in Paris\"\n",
    "]"
   ]
  },
  {
   "cell_type": "code",
   "execution_count": 64,
   "id": "5c7554e2",
   "metadata": {},
   "outputs": [],
   "source": [
    "client = chromadb.PersistentClient(path=\"./chroma_db\")"
   ]
  },
  {
   "cell_type": "code",
   "execution_count": 65,
   "id": "a0a7685e",
   "metadata": {},
   "outputs": [],
   "source": [
    "# Create a collection (or get existing one)\n",
    "\n",
    "unique_collection_name = f\"document_sentences_{int(time.time())}\"\n",
    "\n",
    "collection = client.get_or_create_collection(\n",
    "    name=unique_collection_name,\n",
    "    metadata={\"hnsw:space\": \"cosine\"}  # Using cosine similarity\n",
    ")"
   ]
  },
  {
   "cell_type": "code",
   "execution_count": 66,
   "id": "760db030",
   "metadata": {},
   "outputs": [],
   "source": [
    "# Using Nomic model served locally via Ollama for embedding\n",
    "# Ollama is a friend --> https://ollama.com/\n",
    "def get_embeddings_from_ollama(text, model=\"nomic-embed-text\"):\n",
    "    url = \"http://localhost:11434/api/embeddings\"\n",
    "    \n",
    "    payload = {\n",
    "        \"model\": model,\n",
    "        \"prompt\": text\n",
    "    }\n",
    "    \n",
    "    response = requests.post(url, json=payload)\n",
    "    return np.array(response.json()[\"embedding\"], dtype=np.float32)"
   ]
  },
  {
   "cell_type": "code",
   "execution_count": 67,
   "id": "9f9cb6a4",
   "metadata": {},
   "outputs": [],
   "source": [
    "# Generate embeddings for all texts and add them to the collection in Chroma db\n",
    "embeddings = []\n",
    "for text in texts:\n",
    "    embedding = get_embeddings_from_ollama(text)\n",
    "    embeddings.append(embedding)\n",
    "\n",
    "# Generate IDs for each sentence\n",
    "ids = [str(uuid.uuid4()) for _ in embeddings]\n",
    "\n",
    "collection.add(\n",
    "    ids=ids,\n",
    "    embeddings=embeddings,\n",
    "    documents=texts\n",
    ")\n"
   ]
  },
  {
   "cell_type": "code",
   "execution_count": 68,
   "id": "43bfec73",
   "metadata": {},
   "outputs": [],
   "source": [
    "# Create an embedding for input \n",
    "# We will compare this sentence to the ones in the db\n",
    "query_text = \"A cat is sitting on a carpet\"\n",
    "query_vector = get_embeddings_from_ollama(query_text)"
   ]
  },
  {
   "cell_type": "code",
   "execution_count": null,
   "id": "2cf957fa",
   "metadata": {},
   "outputs": [],
   "source": [
    "results = collection.query(\n",
    "    query_embeddings=[query_vector],\n",
    "    n_results=2\n",
    ")\n",
    "\n",
    "print(\"Query results for:\", query_text)\n",
    "for i, (doc, distance) in enumerate(zip(results[\"documents\"][0], results[\"distances\"][0])):\n",
    "    print(f\"Result {i+1}: {doc}\")"
   ]
  }
 ],
 "metadata": {
  "kernelspec": {
   "display_name": "RAG-presentation",
   "language": "python",
   "name": "python3"
  },
  "language_info": {
   "codemirror_mode": {
    "name": "ipython",
    "version": 3
   },
   "file_extension": ".py",
   "mimetype": "text/x-python",
   "name": "python",
   "nbconvert_exporter": "python",
   "pygments_lexer": "ipython3",
   "version": "3.12.9"
  }
 },
 "nbformat": 4,
 "nbformat_minor": 5
}
