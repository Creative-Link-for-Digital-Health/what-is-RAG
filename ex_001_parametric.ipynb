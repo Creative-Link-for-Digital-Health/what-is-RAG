{
 "cells": [
  {
   "cell_type": "markdown",
   "metadata": {},
   "source": [
    "# Parametric Knowledge\n",
    "\n",
    "Parametric knowledge refers to the information and data encoded within the parameters (weights and biases) of a machine learning model during its training process.\n",
    "\n",
    "In the context of neural networks and large language models (LLMs), parametric knowledge is the information that is learned and stored in model's parameters through exposure to training data, as opposed to knowledge explicitly stored in an external database that can be looked up."
   ]
  },
  {
   "cell_type": "code",
   "execution_count": null,
   "metadata": {},
   "outputs": [],
   "source": [
    "! pip install openai"
   ]
  },
  {
   "cell_type": "code",
   "execution_count": 1,
   "metadata": {},
   "outputs": [],
   "source": [
    "# Import necessary libraries \n",
    "\n",
    "from openai import OpenAI\n",
    "from typing import Dict, Any, List\n",
    "\n",
    "from api_utils import load_api_params"
   ]
  },
  {
   "cell_type": "code",
   "execution_count": 5,
   "metadata": {},
   "outputs": [],
   "source": [
    "# Load API parameters and initialize client\n",
    "\n",
    "SECRETS_PATH = \".secrets.toml\"\n",
    "\n",
    "API_CALL_PARAMS = load_api_params(SECRETS_PATH)\n",
    "client = OpenAI(\n",
    "    base_url = API_CALL_PARAMS['API_URL'],\n",
    "    api_key = API_CALL_PARAMS['API_KEY']\n",
    ")"
   ]
  },
  {
   "cell_type": "code",
   "execution_count": 10,
   "metadata": {},
   "outputs": [],
   "source": [
    "# Function for generating LLM output \n",
    "\n",
    "def generate_completion(model: str, messages: List[Dict[str, str]]) -> str:\n",
    "    response = client.chat.completions.create(\n",
    "        model=model, \n",
    "        messages=messages\n",
    "    )\n",
    "    return response.choices[0].message.content"
   ]
  },
  {
   "cell_type": "code",
   "execution_count": 11,
   "metadata": {},
   "outputs": [],
   "source": [
    "SYSTEM_PROMPT = \"\"\"Answer all user questions to the best of your ability.\"\"\""
   ]
  },
  {
   "cell_type": "code",
   "execution_count": 12,
   "metadata": {},
   "outputs": [],
   "source": [
    "USER_PROMPT = \"\"\"Can you please tell me what is a heart attack.\"\"\""
   ]
  },
  {
   "cell_type": "code",
   "execution_count": 13,
   "metadata": {},
   "outputs": [
    {
     "name": "stdout",
     "output_type": "stream",
     "text": [
      "Okay, let's break down what a heart attack is.\n",
      "\n",
      "In simple terms, a **heart attack** is a serious medical emergency where the **blood flow to a part of the heart muscle suddenly becomes blocked.**\n",
      "\n",
      "Here's a more detailed explanation:\n",
      "\n",
      "1.  **Heart Needs Oxygen:** Just like any other muscle in your body, your heart muscle needs a constant supply of oxygen-rich blood to function.\n",
      "2.  **Coronary Arteries:** Special blood vessels called coronary arteries wrap around the outside of the heart and deliver this essential blood.\n",
      "3.  **The Blockage:** A heart attack (also known medically as a **Myocardial Infarction** or **MI**) usually happens when one of these coronary arteries becomes blocked.\n",
      "    *   Most often, this blockage is caused by a buildup of fat, cholesterol, and other substances, which form a **plaque** inside the artery (this condition is called atherosclerosis).\n",
      "    *   If this plaque ruptures (breaks open), a **blood clot** quickly forms at the site.\n",
      "    *   This blood clot can grow large enough to completely block the flow of blood through the artery.\n",
      "4.  **Muscle Damage:** When the blood flow is blocked, the part of the heart muscle supplied by that artery doesn't get the oxygen and nutrients it needs. It starts to get damaged and, if blood flow isn't restored quickly, it begins to die.\n",
      "5.  **Consequences:** This damage weakens the heart's ability to pump blood effectively, which can lead to serious health problems or even be fatal.\n",
      "\n",
      "**Key Signs and Symptoms:**\n",
      "\n",
      "It's crucial to recognize the signs, although they can vary from person to person. Common symptoms include:\n",
      "\n",
      "*   **Chest discomfort:** Often described as pressure, tightness, squeezing, aching, or pain in the center of the chest that lasts more than a few minutes, or goes away and comes back.\n",
      "*   **Pain or discomfort in other areas:** Such as one or both arms (especially the left), the back, neck, jaw, or stomach.\n",
      "*   **Shortness of breath:** With or without chest discomfort.\n",
      "*   **Other signs:** Such as breaking out in a cold sweat, nausea or vomiting, lightheadedness or dizziness, unusual fatigue.\n",
      "\n",
      "**Important Note:** Not everyone experiences severe chest pain. Women, older adults, and people with diabetes may experience less typical symptoms like shortness of breath, nausea, or unusual fatigue.\n",
      "\n",
      "**What to do:**\n",
      "\n",
      "A heart attack is a **life-threatening emergency.** If you or someone else experiences symptoms:\n",
      "\n",
      "*   **Call your local emergency number immediately** (like 911 in the US, 999 in the UK, 000 in Australia). Don't delay.\n",
      "*   Do not try to drive yourself to the hospital.\n",
      "\n",
      "**In summary:** A heart attack is caused by a sudden blockage in a coronary artery, cutting off blood supply to part of the heart muscle, causing damage or death to that tissue. Prompt medical attention is critical to restore blood flow and minimize damage.\n"
     ]
    }
   ],
   "source": [
    "messages = [\n",
    "    {\"role\": \"system\", \"content\": f\"\"\"{SYSTEM_PROMPT}\"\"\"},\n",
    "    {\"role\": \"user\", \"content\":f\"\"\"{USER_PROMPT}\"\"\"}\n",
    "]\n",
    "try:\n",
    "    model = API_CALL_PARAMS['MODEL']\n",
    "    LLM_output = generate_completion(model, messages)\n",
    "except Exception as e:\n",
    "    raise Exception(f\"Error generating completion: {e}\")\n",
    "\n",
    "print(LLM_output)"
   ]
  }
 ],
 "metadata": {
  "kernelspec": {
   "display_name": "RAG-presentation",
   "language": "python",
   "name": "python3"
  },
  "language_info": {
   "codemirror_mode": {
    "name": "ipython",
    "version": 3
   },
   "file_extension": ".py",
   "mimetype": "text/x-python",
   "name": "python",
   "nbconvert_exporter": "python",
   "pygments_lexer": "ipython3",
   "version": "3.12.9"
  }
 },
 "nbformat": 4,
 "nbformat_minor": 2
}
