{
 "cells": [
  {
   "cell_type": "markdown",
   "metadata": {},
   "source": [
    "# Parametric Knowledge\n",
    "\n",
    "Parametric knowledge refers to the information and data encoded within the parameters (weights and biases) of a machine learning model during its training process.\n",
    "\n",
    "In the context of neural networks and large language models (LLMs), parametric knowledge is the information that is learned and stored in model's parameters through exposure to training data, as opposed to knowledge explicitly stored in an external database that can be looked up."
   ]
  },
  {
   "cell_type": "code",
   "execution_count": null,
   "metadata": {},
   "outputs": [],
   "source": [
    "! pip install openai"
   ]
  },
  {
   "cell_type": "code",
   "execution_count": 2,
   "metadata": {},
   "outputs": [],
   "source": [
    "# Import necessary libraries \n",
    "\n",
    "from openai import OpenAI\n",
    "from typing import Dict, Any, List\n",
    "\n",
    "from api_utils import load_api_params"
   ]
  },
  {
   "cell_type": "code",
   "execution_count": 3,
   "metadata": {},
   "outputs": [],
   "source": [
    "# Load API parameters and initialize client\n",
    "\n",
    "SECRETS_PATH = \".secrets.toml\"\n",
    "\n",
    "API_CALL_PARAMS = load_api_params(SECRETS_PATH)\n",
    "client = OpenAI(\n",
    "    base_url = API_CALL_PARAMS['API_URL'],\n",
    "    api_key = API_CALL_PARAMS['API_KEY']\n",
    ")"
   ]
  },
  {
   "cell_type": "code",
   "execution_count": 4,
   "metadata": {},
   "outputs": [],
   "source": [
    "# Function for generating LLM output \n",
    "\n",
    "def generate_completion(model: str, messages: List[Dict[str, str]]) -> str:\n",
    "    response = client.chat.completions.create(\n",
    "        model=model, \n",
    "        messages=messages\n",
    "    )\n",
    "    return response.choices[0].message.content"
   ]
  },
  {
   "cell_type": "code",
   "execution_count": 5,
   "metadata": {},
   "outputs": [],
   "source": [
    "SYSTEM_PROMPT = \"\"\"Answer all user questions to the best of your ability.\"\"\""
   ]
  },
  {
   "cell_type": "code",
   "execution_count": 6,
   "metadata": {},
   "outputs": [],
   "source": [
    "USER_PROMPT = \"\"\"Can you please tell me what is a heart attack.\"\"\""
   ]
  },
  {
   "cell_type": "code",
   "execution_count": 7,
   "metadata": {},
   "outputs": [
    {
     "name": "stdout",
     "output_type": "stream",
     "text": [
      "A heart attack, also known as myocardial infarction (MI), occurs when the blood flow to the heart is blocked, causing damage to the heart muscle. This blockage can be due to a blood clot or plaque buildup in the coronary arteries, which supply blood to the heart.\n",
      "\n",
      "When the blood flow to the heart is interrupted, the heart muscle is deprived of oxygen and nutrients, leading to cell death and tissue damage. The severity of the damage depends on the duration and location of the blockage.\n",
      "\n",
      "Common symptoms of a heart attack include:\n",
      "\n",
      "1. Chest pain or discomfort: A feeling of pressure, tightness, or squeezing in the center of the chest that may radiate to the arms, back, neck, jaw, or stomach.\n",
      "2. Shortness of breath: Difficulty breathing or feeling winded even when at rest.\n",
      "3. Pain or discomfort in other areas: Pain or discomfort in one or both arms, the back, neck, jaw, or stomach.\n",
      "4. Cold sweats: Breaking out in cold sweats or feeling clammy.\n",
      "5. Lightheadedness or dizziness: Feeling faint or dizzy.\n",
      "6. Fatigue: Feeling extremely tired or weak.\n",
      "7. Nausea or vomiting: Feeling queasy or vomiting.\n",
      "\n",
      "If you suspect someone is having a heart attack, call emergency services immediately. Prompt medical attention is crucial to minimize damage and prevent complications.\n",
      "\n",
      "It's essential to note that not everyone experiences the classic symptoms of a heart attack. Some people, especially women and individuals with diabetes, may exhibit atypical symptoms, such as:\n",
      "\n",
      "* Indigestion or heartburn-like symptoms\n",
      "* Fatigue or weakness\n",
      "* Pain or discomfort in the arms, back, or jaw\n",
      "* Shortness of breath without chest pain\n",
      "\n",
      "If you're concerned about your heart health or experience any unusual symptoms, consult with your healthcare provider.\n"
     ]
    }
   ],
   "source": [
    "messages = [\n",
    "    {\"role\": \"system\", \"content\": f\"\"\"{SYSTEM_PROMPT}\"\"\"},\n",
    "    {\"role\": \"user\", \"content\":f\"\"\"{USER_PROMPT}\"\"\"}\n",
    "]\n",
    "try:\n",
    "    model = API_CALL_PARAMS['MODEL']\n",
    "    LLM_output = generate_completion(model, messages)\n",
    "except Exception as e:\n",
    "    raise Exception(f\"Error generating completion: {e}\")\n",
    "\n",
    "print(LLM_output)"
   ]
  }
 ],
 "metadata": {
  "kernelspec": {
   "display_name": "RAG-presentation",
   "language": "python",
   "name": "python3"
  },
  "language_info": {
   "codemirror_mode": {
    "name": "ipython",
    "version": 3
   },
   "file_extension": ".py",
   "mimetype": "text/x-python",
   "name": "python",
   "nbconvert_exporter": "python",
   "pygments_lexer": "ipython3",
   "version": "3.12.9"
  }
 },
 "nbformat": 4,
 "nbformat_minor": 2
}
