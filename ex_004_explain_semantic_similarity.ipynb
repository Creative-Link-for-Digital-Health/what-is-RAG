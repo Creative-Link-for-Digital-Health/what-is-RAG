{
 "cells": [
  {
   "cell_type": "markdown",
   "id": "b51adc40",
   "metadata": {},
   "source": [
    "# Slight Detour: What is Semantic Similarity?"
   ]
  },
  {
   "cell_type": "markdown",
   "id": "ef5ba1b8",
   "metadata": {},
   "source": [
    "Semantic similarity is a concept in natural language processing and computational linguistics that measures how similar two pieces of text are in meaning, rather than just looking at lexical (word-level) matches.\n",
    "\n",
    "At its core, semantic similarity aims to capture when two different texts express similar ideas, concepts, or information, even if they use completely different words. For example, \"The automobile won't start\" and \"My car isn't working\" have high semantic similarity despite using different vocabulary."
   ]
  },
  {
   "cell_type": "markdown",
   "id": "ab626722",
   "metadata": {},
   "source": [
    "![Semantic SImilarity](./images/semantic_similarity.png \"Semantic Similarity\")"
   ]
  },
  {
   "cell_type": "code",
   "execution_count": null,
   "id": "ece7dec5",
   "metadata": {},
   "outputs": [],
   "source": [
    "! pip install faiss-cpu"
   ]
  },
  {
   "cell_type": "code",
   "execution_count": 30,
   "id": "85a68c38",
   "metadata": {},
   "outputs": [],
   "source": [
    "import requests\n",
    "import numpy as np\n",
    "import faiss"
   ]
  },
  {
   "cell_type": "code",
   "execution_count": 31,
   "id": "a4627490",
   "metadata": {},
   "outputs": [],
   "source": [
    "texts = [\n",
    "    \"The cat sat on the mat\",\n",
    "    \"A feline was resting on a rug\",\n",
    "    \"Dogs are great pets\",\n",
    "    \"I love having a canine companion\",\n",
    "    \"Paris is the capital of France\",\n",
    "    \"The Eiffel Tower is in Paris\"\n",
    "]"
   ]
  },
  {
   "cell_type": "code",
   "execution_count": 32,
   "id": "6b0ca121",
   "metadata": {},
   "outputs": [],
   "source": [
    "# Using Nomic model served locally via Ollama for embedding\n",
    "# Ollama is a friend --> https://ollama.com/\n",
    "def get_embeddings_from_ollama(text, model=\"nomic-embed-text\"):\n",
    "    url = \"http://localhost:11434/api/embeddings\"\n",
    "    \n",
    "    payload = {\n",
    "        \"model\": model,\n",
    "        \"prompt\": text\n",
    "    }\n",
    "    \n",
    "    response = requests.post(url, json=payload)\n",
    "    return np.array(response.json()[\"embedding\"], dtype=np.float32)\n"
   ]
  },
  {
   "cell_type": "code",
   "execution_count": 14,
   "id": "3ce18b83",
   "metadata": {},
   "outputs": [],
   "source": [
    "# Generate embeddings for all texts\n",
    "embeddings = []\n",
    "for text in texts:\n",
    "    embedding = get_embeddings_from_ollama(text)\n",
    "    embeddings.append(embedding)"
   ]
  },
  {
   "cell_type": "code",
   "execution_count": 15,
   "id": "419bfe15",
   "metadata": {},
   "outputs": [],
   "source": [
    "# Convert list to numpy array and create FAISS index\n",
    "embeddings = np.array(embeddings)\n",
    "\n",
    "dimension = embeddings.shape[1]\n",
    "index = faiss.IndexFlatL2(dimension)\n",
    "index.add(embeddings)"
   ]
  },
  {
   "cell_type": "code",
   "execution_count": 34,
   "id": "ceeb3f9a",
   "metadata": {},
   "outputs": [],
   "source": [
    "# Create an embedding for input \n",
    "# We will compare this sentence to the ones above\n",
    "query_text = \"A cat is sitting on a carpet\"\n",
    "query_vector = get_embeddings_from_ollama(query_text)\n",
    "query_vector = query_vector.reshape(1, -1)  # Reshape for FAISS"
   ]
  },
  {
   "cell_type": "code",
   "execution_count": null,
   "id": "8c74488d",
   "metadata": {},
   "outputs": [],
   "source": [
    "# Print out for fun\n",
    "print(f\"Vector shape: {query_vector.shape}\")\n",
    "print(f\"Vector type: {query_vector.dtype}\")\n",
    "print(query_vector)"
   ]
  },
  {
   "cell_type": "code",
   "execution_count": null,
   "id": "e5cf4df2",
   "metadata": {},
   "outputs": [],
   "source": [
    "# Search for similarity with ALL texts in the index\n",
    "k = len(texts)  # Return all results\n",
    "distances, indices = index.search(query_vector, k)\n",
    "\n",
    "# Display results\n",
    "print(f\"Query: {query_text}\\n\")\n",
    "print(\"All texts ranked by similarity:\")\n",
    "for i, (dist, idx) in enumerate(zip(distances[0], indices[0])):\n",
    "    print(f\"{i+1}. \\\"{texts[idx]}\\\" (Distance: {dist:.4f})\")"
   ]
  }
 ],
 "metadata": {
  "kernelspec": {
   "display_name": "RAG-presentation",
   "language": "python",
   "name": "python3"
  },
  "language_info": {
   "codemirror_mode": {
    "name": "ipython",
    "version": 3
   },
   "file_extension": ".py",
   "mimetype": "text/x-python",
   "name": "python",
   "nbconvert_exporter": "python",
   "pygments_lexer": "ipython3",
   "version": "3.12.9"
  }
 },
 "nbformat": 4,
 "nbformat_minor": 5
}
